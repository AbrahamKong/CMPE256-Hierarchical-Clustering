{
  "nbformat": 4,
  "nbformat_minor": 0,
  "metadata": {
    "colab": {
      "name": "CMPE 256 Hierarchical Clustering.ipynb",
      "provenance": [],
      "authorship_tag": "ABX9TyPdMr7UpR427UWoZxaqMeKn",
      "include_colab_link": true
    },
    "kernelspec": {
      "name": "python3",
      "display_name": "Python 3"
    },
    "language_info": {
      "name": "python"
    }
  },
  "cells": [
    {
      "cell_type": "markdown",
      "metadata": {
        "id": "view-in-github",
        "colab_type": "text"
      },
      "source": [
        "<a href=\"https://colab.research.google.com/github/AbrahamKong/CMPE256-Hierarchical-Clustering/blob/main/CMPE_256_Hierarchical_Clustering.ipynb\" target=\"_parent\"><img src=\"https://colab.research.google.com/assets/colab-badge.svg\" alt=\"Open In Colab\"/></a>"
      ]
    },
    {
      "cell_type": "code",
      "metadata": {
        "id": "LUAz9lecwgfo"
      },
      "source": [
        "# import necessary library\n",
        "\n",
        "import numpy as np\n",
        "import pandas as pd\n",
        "import matplotlib.pyplot as plt\n",
        "import seaborn as sns\n",
        "\n",
        "from scipy.cluster.hierarchy import linkage, fcluster, dendrogram"
      ],
      "execution_count": null,
      "outputs": []
    },
    {
      "cell_type": "code",
      "metadata": {
        "colab": {
          "base_uri": "https://localhost:8080/",
          "height": 204
        },
        "id": "xxerfJHO0Nqq",
        "outputId": "9c94d886-db8b-43fa-a409-f584d0db0090"
      },
      "source": [
        "# Input points based on given assignments\n",
        "\n",
        "points = pd.read_csv(\"/content/data.csv\")\n",
        "points.head()"
      ],
      "execution_count": null,
      "outputs": [
        {
          "output_type": "execute_result",
          "data": {
            "text/html": [
              "<div>\n",
              "<style scoped>\n",
              "    .dataframe tbody tr th:only-of-type {\n",
              "        vertical-align: middle;\n",
              "    }\n",
              "\n",
              "    .dataframe tbody tr th {\n",
              "        vertical-align: top;\n",
              "    }\n",
              "\n",
              "    .dataframe thead th {\n",
              "        text-align: right;\n",
              "    }\n",
              "</style>\n",
              "<table border=\"1\" class=\"dataframe\">\n",
              "  <thead>\n",
              "    <tr style=\"text-align: right;\">\n",
              "      <th></th>\n",
              "      <th>x_coordinate</th>\n",
              "      <th>y_coordinate</th>\n",
              "    </tr>\n",
              "  </thead>\n",
              "  <tbody>\n",
              "    <tr>\n",
              "      <th>0</th>\n",
              "      <td>3</td>\n",
              "      <td>7</td>\n",
              "    </tr>\n",
              "    <tr>\n",
              "      <th>1</th>\n",
              "      <td>2</td>\n",
              "      <td>6</td>\n",
              "    </tr>\n",
              "    <tr>\n",
              "      <th>2</th>\n",
              "      <td>2</td>\n",
              "      <td>2</td>\n",
              "    </tr>\n",
              "    <tr>\n",
              "      <th>3</th>\n",
              "      <td>5</td>\n",
              "      <td>2</td>\n",
              "    </tr>\n",
              "    <tr>\n",
              "      <th>4</th>\n",
              "      <td>5</td>\n",
              "      <td>5</td>\n",
              "    </tr>\n",
              "  </tbody>\n",
              "</table>\n",
              "</div>"
            ],
            "text/plain": [
              "   x_coordinate  y_coordinate\n",
              "0             3             7\n",
              "1             2             6\n",
              "2             2             2\n",
              "3             5             2\n",
              "4             5             5"
            ]
          },
          "metadata": {},
          "execution_count": 66
        }
      ]
    },
    {
      "cell_type": "code",
      "metadata": {
        "id": "QXg8KHEG0rf3"
      },
      "source": [
        "# Use whiten to average out the weight of each data point\n",
        "\n",
        "from scipy.cluster.vq import whiten\n",
        "\n",
        "points['x'] = whiten(points['x_coordinate'])\n",
        "points['y'] = whiten(points['y_coordinate'])"
      ],
      "execution_count": null,
      "outputs": []
    },
    {
      "cell_type": "markdown",
      "metadata": {
        "id": "coa4U0gwCMfv"
      },
      "source": [
        "**Single-Link**"
      ]
    },
    {
      "cell_type": "code",
      "metadata": {
        "colab": {
          "base_uri": "https://localhost:8080/",
          "height": 296
        },
        "id": "OiW9ILQ1CIb_",
        "outputId": "6a2d0279-57c7-4116-d637-8ef7f95f2aa9"
      },
      "source": [
        "# Assign distance matrix and plot the clusters\n",
        "\n",
        "distance_matrix = linkage(points[['x', 'y']], method='single', metric='euclidean')\n",
        "\n",
        "points['cluster_labels'] = fcluster(distance_matrix, 5, criterion='maxclust')\n",
        "\n",
        "sns.scatterplot(x = 'x', y = 'y', hue='cluster_labels', data=points)"
      ],
      "execution_count": null,
      "outputs": [
        {
          "output_type": "execute_result",
          "data": {
            "text/plain": [
              "<matplotlib.axes._subplots.AxesSubplot at 0x7f87b9db7e90>"
            ]
          },
          "metadata": {},
          "execution_count": 68
        },
        {
          "output_type": "display_data",
          "data": {
            "image/png": "[encoded data removed]",
            "text/plain": [
              "<Figure size 432x288 with 1 Axes>"
            ]
          },
          "metadata": {
            "needs_background": "light"
          }
        }
      ]
    },
    {
      "cell_type": "code",
      "metadata": {
        "colab": {
          "base_uri": "https://localhost:8080/",
          "height": 268
        },
        "id": "CSbk23V79WQ8",
        "outputId": "1cffa52b-fb06-453b-efa3-0fcaca5d8c69"
      },
      "source": [
        "# Draw dendrogram\n",
        "\n",
        "dn = dendrogram(distance_matrix)"
      ],
      "execution_count": null,
      "outputs": [
        {
          "output_type": "display_data",
          "data": {
            "image/png": "[encoded data removed]",
            "text/plain": [
              "<Figure size 432x288 with 1 Axes>"
            ]
          },
          "metadata": {
            "needs_background": "light"
          }
        }
      ]
    },
    {
      "cell_type": "markdown",
      "metadata": {
        "id": "97mjXfn0CP-L"
      },
      "source": [
        "**Average-Link**"
      ]
    },
    {
      "cell_type": "code",
      "metadata": {
        "colab": {
          "base_uri": "https://localhost:8080/",
          "height": 296
        },
        "id": "cgcw0vMW8ULW",
        "outputId": "28b83387-ad75-4f07-d92c-3e73ea0290e2"
      },
      "source": [
        "distance_matrix = linkage(points[['x', 'y']], method='average', metric='euclidean')\n",
        "\n",
        "points['cluster_labels'] = fcluster(distance_matrix, 5, criterion='maxclust')\n",
        "\n",
        "sns.scatterplot(x = 'x', y = 'y', hue='cluster_labels', data=points)"
      ],
      "execution_count": null,
      "outputs": [
        {
          "output_type": "execute_result",
          "data": {
            "text/plain": [
              "<matplotlib.axes._subplots.AxesSubplot at 0x7f87b9c5fa10>"
            ]
          },
          "metadata": {},
          "execution_count": 70
        },
        {
          "output_type": "display_data",
          "data": {
            "image/png": "[encoded data removed]",
            "text/plain": [
              "<Figure size 432x288 with 1 Axes>"
            ]
          },
          "metadata": {
            "needs_background": "light"
          }
        }
      ]
    },
    {
      "cell_type": "code",
      "metadata": {
        "colab": {
          "base_uri": "https://localhost:8080/",
          "height": 268
        },
        "id": "_oUCskPP9ZhX",
        "outputId": "c1f1685c-7231-44f6-b3ef-4651a3f0360e"
      },
      "source": [
        "dn2 = dendrogram(distance_matrix)"
      ],
      "execution_count": null,
      "outputs": [
        {
          "output_type": "display_data",
          "data": {
            "image/png": "[encoded data removed]",
            "text/plain": [
              "<Figure size 432x288 with 1 Axes>"
            ]
          },
          "metadata": {
            "needs_background": "light"
          }
        }
      ]
    },
    {
      "cell_type": "markdown",
      "metadata": {
        "id": "bE_41AVKCZ8M"
      },
      "source": [
        "**Complete-Link**"
      ]
    },
    {
      "cell_type": "code",
      "metadata": {
        "colab": {
          "base_uri": "https://localhost:8080/",
          "height": 296
        },
        "id": "JKpuHYRH8t-I",
        "outputId": "2f4f1e42-0a6b-4b1d-cab1-21a6e026ed31"
      },
      "source": [
        "distance_matrix = linkage(points[['x', 'y']], method='complete', metric='euclidean')\n",
        "\n",
        "points['cluster_labels'] = fcluster(distance_matrix, 5, criterion='maxclust')\n",
        "\n",
        "sns.scatterplot(x = 'x', y = 'y', hue='cluster_labels', data=points)"
      ],
      "execution_count": null,
      "outputs": [
        {
          "output_type": "execute_result",
          "data": {
            "text/plain": [
              "<matplotlib.axes._subplots.AxesSubplot at 0x7f87b9bcab50>"
            ]
          },
          "metadata": {},
          "execution_count": 72
        },
        {
          "output_type": "display_data",
          "data": {
            "image/png": "[encoded data removed]",
            "text/plain": [
              "<Figure size 432x288 with 1 Axes>"
            ]
          },
          "metadata": {
            "needs_background": "light"
          }
        }
      ]
    },
    {
      "cell_type": "code",
      "metadata": {
        "colab": {
          "base_uri": "https://localhost:8080/",
          "height": 268
        },
        "id": "UxAmjb559cfF",
        "outputId": "83870708-fe06-4ad6-ac3a-921fa7558a9b"
      },
      "source": [
        "dn3 = dendrogram(distance_matrix)"
      ],
      "execution_count": null,
      "outputs": [
        {
          "output_type": "display_data",
          "data": {
            "image/png": "[encoded data removed]",
            "text/plain": [
              "<Figure size 432x288 with 1 Axes>"
            ]
          },
          "metadata": {
            "needs_background": "light"
          }
        }
      ]
    },
    {
      "cell_type": "code",
      "metadata": {
        "id": "1i6ZV9w59TmL"
      },
      "source": [
        ""
      ],
      "execution_count": null,
      "outputs": []
    }
  ]
}